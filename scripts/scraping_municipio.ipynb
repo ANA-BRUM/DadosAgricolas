{
 "cells": [
  {
   "cell_type": "code",
   "execution_count": 1,
   "metadata": {},
   "outputs": [
    {
     "name": "stderr",
     "output_type": "stream",
     "text": [
      "C:\\Users\\anaph\\AppData\\Local\\Temp\\ipykernel_10524\\2104664566.py:1: DeprecationWarning: \n",
      "Pyarrow will become a required dependency of pandas in the next major release of pandas (pandas 3.0),\n",
      "(to allow more performant data types, such as the Arrow string type, and better interoperability with other libraries)\n",
      "but was not found to be installed on your system.\n",
      "If this would cause problems for you,\n",
      "please provide us feedback at https://github.com/pandas-dev/pandas/issues/54466\n",
      "        \n",
      "  import pandas as pd\n"
     ]
    }
   ],
   "source": [
    "import pandas as pd\n",
    "import httpx\n",
    "import logging"
   ]
  },
  {
   "cell_type": "code",
   "execution_count": 2,
   "metadata": {},
   "outputs": [
    {
     "name": "stderr",
     "output_type": "stream",
     "text": [
      "08/10/2024 22:15:37 - INFO - HTTP Request: GET https://servicodados.ibge.gov.br/api/v1/localidades/municipios \"HTTP/1.1 200 OK\"\n",
      "08/10/2024 22:15:38 - INFO - Arquivo Excel salvo com sucesso em C:\\Users\\anaph\\OneDrive\\Área de Trabalho\\DadosMeteorologicos\\dim_municipios.xlsx\n"
     ]
    }
   ],
   "source": [
    "# Configuração de logging\n",
    "logging.basicConfig(\n",
    "    level=logging.INFO,\n",
    "    format='%(asctime)s - %(levelname)s - %(message)s',\n",
    "    datefmt='%d/%m/%Y %H:%M:%S'\n",
    ")\n",
    "\n",
    "logger = logging.getLogger(__name__)\n",
    "\n",
    "def extrair_dados_municipios() -> list:\n",
    "    \"\"\"\n",
    "    Realiza a requisição à API do IBGE para buscar dados sobre os municípios.\n",
    "    \n",
    "    Retorna:\n",
    "        list: Lista de dicionários com os dados dos municípios ou lista vazia em caso de erro.\n",
    "    \"\"\"\n",
    "    url = \"https://servicodados.ibge.gov.br/api/v1/localidades/municipios\"\n",
    "    \n",
    "    try:\n",
    "        with httpx.Client(timeout=10) as client:\n",
    "            resposta = client.get(url)\n",
    "            resposta.raise_for_status()  # Verifica se o status é 200\n",
    "            return resposta.json() if resposta.status_code == 200 else []\n",
    "    except httpx.HTTPStatusError as e:\n",
    "        logger.error(f\"Erro HTTP ao buscar dados: {e.response.status_code} - {e.request.url}\")\n",
    "        return []\n",
    "    except httpx.RequestError as e:\n",
    "        logger.error(f\"Erro durante a requisição: {e}\")\n",
    "        return []\n",
    "    except Exception as e:\n",
    "        logger.error(f\"Erro inesperado: {e}\")\n",
    "        return []\n",
    "\n",
    "def criar_tabela_dim_municipios(dados_municipios: list) -> pd.DataFrame:\n",
    "    \"\"\"\n",
    "    Cria um DataFrame com os dados dos municípios e organiza como tabela dim_municipios.\n",
    "    \n",
    "    Parâmetros:\n",
    "        dados_municipios (list): Lista de dicionários com os dados dos municípios.\n",
    "    \n",
    "    Retorna:\n",
    "        pd.DataFrame: DataFrame com os dados organizados.\n",
    "    \"\"\"\n",
    "    if not dados_municipios:\n",
    "        logger.warning(\"Nenhum dado de município disponível para processar.\")\n",
    "        return pd.DataFrame()\n",
    "\n",
    "    # Extraindo os dados de interesse\n",
    "    municipios = []\n",
    "    for municipio in dados_municipios:\n",
    "        try:\n",
    "            nome = municipio['nome']\n",
    "            id_municipio = municipio['id']\n",
    "            microrregiao = municipio['microrregiao']['nome']\n",
    "            mesorregiao = municipio['microrregiao']['mesorregiao']['nome']\n",
    "            uf = municipio['microrregiao']['mesorregiao']['UF']['nome']\n",
    "            regiao = municipio['microrregiao']['mesorregiao']['UF']['regiao']['nome']\n",
    "        except KeyError as e:\n",
    "            logger.warning(f\"Dados incompletos no município: {municipio}. Erro: {e}\")\n",
    "            continue\n",
    "\n",
    "        municipios.append({\n",
    "            'id_municipio': id_municipio,\n",
    "            'nome': nome,\n",
    "            'microrregiao': microrregiao,\n",
    "            'mesorregiao': mesorregiao,\n",
    "            'uf': uf,\n",
    "            'regiao': regiao\n",
    "        })\n",
    "\n",
    "    if not municipios:\n",
    "        logger.warning(\"Nenhum dado foi processado corretamente.\")\n",
    "    \n",
    "    # Criando o DataFrame\n",
    "    df_municipios = pd.DataFrame(municipios)\n",
    "    return df_municipios\n",
    "\n",
    "def salvar_tabela_excel(df: pd.DataFrame, caminho_arquivo: str):\n",
    "    \"\"\"\n",
    "    Salva o DataFrame em um arquivo Excel.\n",
    "\n",
    "    Parâmetros:\n",
    "        df (pd.DataFrame): DataFrame com os dados a serem salvos.\n",
    "        caminho_arquivo (str): Caminho completo onde o arquivo Excel será salvo.\n",
    "    \"\"\"\n",
    "    if df.empty:\n",
    "        logger.warning(\"O DataFrame está vazio. Nenhum arquivo será salvo.\")\n",
    "        return\n",
    "    \n",
    "    try:\n",
    "        df.to_excel(caminho_arquivo, index=False)\n",
    "        logger.info(f\"Arquivo Excel salvo com sucesso em {caminho_arquivo}\")\n",
    "    except Exception as e:\n",
    "        logger.error(f\"Erro ao salvar o arquivo Excel: {e}\")\n",
    "\n",
    "# Executando as funções\n",
    "if __name__ == \"__main__\":\n",
    "    dados_municipios = extrair_dados_municipios()\n",
    "    if dados_municipios:\n",
    "        df_municipios = criar_tabela_dim_municipios(dados_municipios)\n",
    "        salvar_tabela_excel(df_municipios, r'C:\\Users\\anaph\\OneDrive\\Área de Trabalho\\DadosMeteorologicos\\dim_municipios.xlsx')"
   ]
  }
 ],
 "metadata": {
  "kernelspec": {
   "display_name": "Python 3",
   "language": "python",
   "name": "python3"
  },
  "language_info": {
   "codemirror_mode": {
    "name": "ipython",
    "version": 3
   },
   "file_extension": ".py",
   "mimetype": "text/x-python",
   "name": "python",
   "nbconvert_exporter": "python",
   "pygments_lexer": "ipython3",
   "version": "3.12.2"
  }
 },
 "nbformat": 4,
 "nbformat_minor": 2
}
